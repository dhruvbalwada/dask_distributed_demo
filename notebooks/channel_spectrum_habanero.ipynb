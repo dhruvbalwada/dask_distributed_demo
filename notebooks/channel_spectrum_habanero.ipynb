{
 "cells": [
  {
   "cell_type": "code",
   "execution_count": 1,
   "metadata": {
    "collapsed": false,
    "deletable": true,
    "editable": true
   },
   "outputs": [],
   "source": [
    "#import xgcm\n",
    "import xmitgcm\n",
    "import xrft\n",
    "import numpy as np\n",
    "from matplotlib import pyplot as plt\n",
    "%matplotlib inline"
   ]
  },
  {
   "cell_type": "code",
   "execution_count": 2,
   "metadata": {
    "collapsed": false,
    "deletable": true,
    "editable": true
   },
   "outputs": [
    {
     "data": {
      "text/plain": [
       "<Client: scheduler='tcp://10.43.4.162:8786' processes=1 cores=48>"
      ]
     },
     "execution_count": 2,
     "metadata": {},
     "output_type": "execute_result"
    }
   ],
   "source": [
    "from dask.utils import SerializableLock\n",
    "from dask.distributed import Client\n",
    "client = Client(scheduler_file='../schedule_file')\n",
    "client"
   ]
  },
  {
   "cell_type": "code",
   "execution_count": 3,
   "metadata": {
    "collapsed": false,
    "deletable": true,
    "editable": true
   },
   "outputs": [
    {
     "name": "stderr",
     "output_type": "stream",
     "text": [
      "/rigel/home/ra2697/xmitgcm/xmitgcm/utils.py:314: UserWarning: Not sure what to do with rlev = L\n",
      "  warnings.warn(\"Not sure what to do with rlev = \" + rlev)\n"
     ]
    },
    {
     "data": {
      "text/plain": [
       "<xarray.Dataset>\n",
       "Dimensions:              (XC: 400, XG: 400, YC: 400, YG: 400, Z: 40, Zl: 40, Zp1: 41, Zu: 40, layer_1TH_bounds: 43, layer_1TH_center: 42, layer_1TH_interface: 41, time: 118)\n",
       "Coordinates:\n",
       "    iter                 (time) int64 8294400 8294976 8295552 8296128 ...\n",
       "  * time                 (time) int64 8294400 8294976 8295552 8296128 ...\n",
       "  * XG                   (XG) >f4 0.0 5000.0 10000.0 15000.0 20000.0 25000.0 ...\n",
       "  * XC                   (XC) >f4 2500.0 7500.0 12500.0 17500.0 22500.0 ...\n",
       "  * YG                   (YG) >f4 0.0 5000.0 10000.0 15000.0 20000.0 25000.0 ...\n",
       "  * YC                   (YC) >f4 2500.0 7500.0 12500.0 17500.0 22500.0 ...\n",
       "  * Zu                   (Zu) float32 -10.0 -20.0 -30.0 -42.0 -56.0 -72.0 ...\n",
       "  * Zp1                  (Zp1) float32 0.0 -10.0 -20.0 -30.0 -42.0 -56.0 ...\n",
       "  * Z                    (Z) float32 -5.0 -15.0 -25.0 -36.0 -49.0 -64.0 ...\n",
       "  * Zl                   (Zl) float32 0.0 -10.0 -20.0 -30.0 -42.0 -56.0 ...\n",
       "    rAs                  (YG, XC) >f4 2.5e+07 2.5e+07 2.5e+07 2.5e+07 ...\n",
       "    dxC                  (YC, XG) >f4 5000.0 5000.0 5000.0 5000.0 5000.0 ...\n",
       "    rAz                  (YG, XG) >f4 2.5e+07 2.5e+07 2.5e+07 2.5e+07 ...\n",
       "    dyG                  (YC, XG) >f4 5000.0 5000.0 5000.0 5000.0 5000.0 ...\n",
       "    rAw                  (YC, XG) >f4 2.5e+07 2.5e+07 2.5e+07 2.5e+07 ...\n",
       "    rA                   (YC, XC) >f4 2.5e+07 2.5e+07 2.5e+07 2.5e+07 ...\n",
       "    dyC                  (YG, XC) >f4 5000.0 5000.0 5000.0 5000.0 5000.0 ...\n",
       "    dxG                  (YG, XC) >f4 5000.0 5000.0 5000.0 5000.0 5000.0 ...\n",
       "    Depth                (YC, XC) >f4 0.0 0.0 0.0 0.0 0.0 0.0 0.0 0.0 0.0 ...\n",
       "    PHrefC               (Z) float32 49.05 147.15 245.25 353.16 480.69 ...\n",
       "    drC                  (Zp1) float32 5.0 10.0 10.0 11.0 13.0 15.0 17.5 ...\n",
       "    PHrefF               (Zp1) float32 0.0 98.1 196.2 294.3 412.02 549.36 ...\n",
       "    drF                  (Z) float32 10.0 10.0 10.0 12.0 14.0 16.0 19.0 22.0 ...\n",
       "    hFacW                (Z, YC, XG) >f4 0.0 0.0 0.0 0.0 0.0 0.0 0.0 0.0 0.0 ...\n",
       "    hFacC                (Z, YC, XC) >f4 0.0 0.0 0.0 0.0 0.0 0.0 0.0 0.0 0.0 ...\n",
       "    hFacS                (Z, YG, XC) >f4 0.0 0.0 0.0 0.0 0.0 0.0 0.0 0.0 0.0 ...\n",
       "  * layer_1TH_bounds     (layer_1TH_bounds) float32 -0.2 0.0 0.2 0.4 0.6 0.8 ...\n",
       "  * layer_1TH_interface  (layer_1TH_interface) float32 0.0 0.2 0.4 0.6 0.8 ...\n",
       "  * layer_1TH_center     (layer_1TH_center) float32 -0.1 0.1 0.3 0.5 0.7 0.9 ...\n",
       "Data variables:\n",
       "    T                    (time, Z, YC, XC) float32 0.0 0.0 0.0 0.0 0.0 0.0 ...\n",
       "    V                    (time, Z, YG, XC) float32 0.0 0.0 0.0 0.0 0.0 0.0 ...\n",
       "    S                    (time, Z, YC, XC) float32 0.0 0.0 0.0 0.0 0.0 0.0 ...\n",
       "    W                    (time, Zl, YC, XC) float32 -0.0 -0.0 -0.0 -0.0 -0.0 ...\n",
       "    U                    (time, Z, YC, XG) float32 0.0 0.0 0.0 0.0 0.0 0.0 ...\n",
       "    Eta                  (time, YC, XC) float32 0.0 0.0 0.0 0.0 0.0 0.0 0.0 ..."
      ]
     },
     "execution_count": 3,
     "metadata": {},
     "output_type": "execute_result"
    }
   ],
   "source": [
    "ddir = '/rigel/ocp/users/ra2697/channel_topography/GCM/run_taux2000_rb0110_bump'\n",
    "ds = xmitgcm.open_mdsdataset(ddir, prefix=['U', 'Eta', 'T', 'V', 'S', 'W'])#, prefix=['Diag_ThPhUVW'], iters=iters)\n",
    "ds"
   ]
  },
  {
   "cell_type": "code",
   "execution_count": 4,
   "metadata": {
    "collapsed": false,
    "deletable": true,
    "editable": true
   },
   "outputs": [
    {
     "data": {
      "text/plain": [
       "15.262090084"
      ]
     },
     "execution_count": 4,
     "metadata": {},
     "output_type": "execute_result"
    }
   ],
   "source": [
    "ds.nbytes / 1e9"
   ]
  },
  {
   "cell_type": "code",
   "execution_count": 5,
   "metadata": {
    "collapsed": false,
    "deletable": true,
    "editable": true
   },
   "outputs": [
    {
     "data": {
      "text/plain": [
       "<xarray.DataArray 'W' (Zl: 40)>\n",
       "dask.array<mean_ag..., shape=(40,), dtype=float32, chunksize=(40,)>\n",
       "Coordinates:\n",
       "  * Zl       (Zl) float32 0.0 -10.0 -20.0 -30.0 -42.0 -56.0 -72.0 -91.0 ..."
      ]
     },
     "execution_count": 5,
     "metadata": {},
     "output_type": "execute_result"
    }
   ],
   "source": [
    "w_sq_profile = ds.W.mean(dim=('time', 'YC', 'XC'))\n",
    "w_sq_profile"
   ]
  },
  {
   "cell_type": "code",
   "execution_count": 6,
   "metadata": {
    "collapsed": false,
    "deletable": true,
    "editable": true
   },
   "outputs": [
    {
     "name": "stdout",
     "output_type": "stream",
     "text": [
      "CPU times: user 50 ms, sys: 2.8 ms, total: 52.8 ms\n",
      "Wall time: 8.84 s\n"
     ]
    },
    {
     "data": {
      "text/plain": [
       "<xarray.DataArray 'W' (Zl: 40)>\n",
       "array([ -9.080495e-18,  -1.479856e-16,  -8.089879e-15,   1.065496e-14,\n",
       "        -5.031510e-15,   2.972044e-15,   2.959712e-16,  -1.127157e-14,\n",
       "        -4.340910e-15,  -1.414495e-14,  -2.984376e-15,   1.316455e-14,\n",
       "         2.096462e-15,  -3.206354e-16,  -4.143596e-15,   7.756911e-15,\n",
       "        -6.190730e-15,   5.333647e-15,  -4.994513e-15,   5.796102e-15,\n",
       "         6.264723e-15,   2.959712e-16,   9.643727e-15,  -1.281925e-14,\n",
       "         1.666688e-14,   8.200867e-15,  -1.699368e-14,  -1.208549e-15,\n",
       "         1.361467e-14,   3.872289e-15,  -1.684569e-14,   4.575221e-15,\n",
       "         3.063301e-14,  -2.648325e-14,  -3.625647e-15,  -1.991639e-14,\n",
       "        -8.083712e-15,  -1.331870e-15,   6.095156e-15,  -4.587553e-15], dtype=float32)\n",
       "Coordinates:\n",
       "  * Zl       (Zl) float32 0.0 -10.0 -20.0 -30.0 -42.0 -56.0 -72.0 -91.0 ..."
      ]
     },
     "execution_count": 6,
     "metadata": {},
     "output_type": "execute_result"
    }
   ],
   "source": [
    "%time w_sq_profile.load()"
   ]
  },
  {
   "cell_type": "code",
   "execution_count": 12,
   "metadata": {
    "collapsed": false,
    "deletable": true,
    "editable": true
   },
   "outputs": [
    {
     "name": "stderr",
     "output_type": "stream",
     "text": [
      "/rigel/home/ra2697/miniconda/envs/dask_distributed/lib/python3.5/site-packages/ipykernel/__main__.py:1: DeprecationWarning: pandas.core.common.is_timedelta64_dtype is deprecated. import from the public API: pandas.api.types.is_timedelta64_dtype instead\n",
      "  if __name__ == '__main__':\n"
     ]
    },
    {
     "data": {
      "text/plain": [
       "<xarray.DataArray 'fft-a8749a357617a102b4e711dbf5f67f8d' (Z: 40, freq_XC: 200)>\n",
       "dask.array<astype-..., shape=(40, 200), dtype=float64, chunksize=(40, 200)>\n",
       "Coordinates:\n",
       "    freq_XC_spacing  float64 5e-07\n",
       "  * freq_XC          (freq_XC) float64 0.0 5e-07 1e-06 1.5e-06 2e-06 2.5e-06 ...\n",
       "  * Z                (Z) float32 -5.0 -15.0 -25.0 -36.0 -49.0 -64.0 -81.5 ..."
      ]
     },
     "execution_count": 12,
     "metadata": {},
     "output_type": "execute_result"
    }
   ],
   "source": [
    "v_fft = xrft.dft(ds.V, dim=['XC'], shift=False)\n",
    "pow_spec = (v_fft*v_fft.conj()).isel(freq_XC=slice(0,len(ds.XC)//2)).mean(dim=('YG','time')).astype('f8')\n",
    "pow_spec"
   ]
  },
  {
   "cell_type": "code",
   "execution_count": 13,
   "metadata": {
    "collapsed": false,
    "deletable": true,
    "editable": true
   },
   "outputs": [
    {
     "data": {
      "text/plain": [
       "<xarray.DataArray 'fft-a8749a357617a102b4e711dbf5f67f8d' (Z: 40, freq_XC: 200)>\n",
       "array([[  1.679498e-12,   5.333588e+01,   1.938991e+02, ...,   1.328392e-02,\n",
       "          1.330785e-02,   1.328763e-02],\n",
       "       [  1.327359e-12,   5.347253e+01,   1.936464e+02, ...,   1.260020e-02,\n",
       "          1.262719e-02,   1.261088e-02],\n",
       "       [  1.081823e-12,   5.515823e+01,   1.951747e+02, ...,   1.113021e-02,\n",
       "          1.117978e-02,   1.115671e-02],\n",
       "       ..., \n",
       "       [  5.334783e-14,   9.086897e+00,   2.783482e+01, ...,   1.004202e-03,\n",
       "          8.448553e-04,   7.273563e-04],\n",
       "       [  5.301808e-14,   9.256764e+00,   2.799335e+01, ...,   5.328699e-04,\n",
       "          5.003055e-04,   4.696334e-04],\n",
       "       [  5.278901e-14,   8.508852e+00,   2.689781e+01, ...,   3.014728e-04,\n",
       "          3.006626e-04,   3.001991e-04]])\n",
       "Coordinates:\n",
       "    freq_XC_spacing  float64 5e-07\n",
       "  * freq_XC          (freq_XC) float64 0.0 5e-07 1e-06 1.5e-06 2e-06 2.5e-06 ...\n",
       "  * Z                (Z) float32 -5.0 -15.0 -25.0 -36.0 -49.0 -64.0 -81.5 ..."
      ]
     },
     "execution_count": 13,
     "metadata": {},
     "output_type": "execute_result"
    }
   ],
   "source": [
    "pow_spec.load()"
   ]
  },
  {
   "cell_type": "code",
   "execution_count": 15,
   "metadata": {
    "collapsed": false,
    "deletable": true,
    "editable": true
   },
   "outputs": [
    {
     "data": {
      "text/plain": [
       "(0.01, 1000.0)"
      ]
     },
     "execution_count": 15,
     "metadata": {},
     "output_type": "execute_result"
    },
    {
     "data": {
      "image/png": "[encoded data removed]",
      "text/plain": [
       "<matplotlib.figure.Figure at 0x2aab20b32898>"
      ]
     },
     "metadata": {},
     "output_type": "display_data"
    }
   ],
   "source": [
    "fig, ax = plt.subplots()\n",
    "pow_spec[0].plot(ax=ax)\n",
    "ax.set_xscale('log')\n",
    "ax.set_yscale('log')\n",
    "ax.set_ylim([1e-2,1e3])"
   ]
  },
  {
   "cell_type": "code",
   "execution_count": 72,
   "metadata": {
    "collapsed": false,
    "deletable": true,
    "editable": true
   },
   "outputs": [
    {
     "ename": "RuntimeError",
     "evalue": "Drawing dask graphs requires the `graphviz` python library and the `graphviz` system library to be installed.",
     "output_type": "error",
     "traceback": [
      "\u001b[0;31m---------------------------------------------------------------------------\u001b[0m",
      "\u001b[0;31mImportError\u001b[0m                               Traceback (most recent call last)",
      "\u001b[0;32m/home/rpa/.conda/envs/dask_distributed/lib/python3.5/site-packages/dask/utils.py\u001b[0m in \u001b[0;36mimport_required\u001b[0;34m(mod_name, error_msg)\u001b[0m\n\u001b[1;32m     95\u001b[0m     \u001b[0;32mtry\u001b[0m\u001b[0;34m:\u001b[0m\u001b[0;34m\u001b[0m\u001b[0m\n\u001b[0;32m---> 96\u001b[0;31m         \u001b[0;32mreturn\u001b[0m \u001b[0mimport_module\u001b[0m\u001b[0;34m(\u001b[0m\u001b[0mmod_name\u001b[0m\u001b[0;34m)\u001b[0m\u001b[0;34m\u001b[0m\u001b[0m\n\u001b[0m\u001b[1;32m     97\u001b[0m     \u001b[0;32mexcept\u001b[0m \u001b[0mImportError\u001b[0m\u001b[0;34m:\u001b[0m\u001b[0;34m\u001b[0m\u001b[0m\n",
      "\u001b[0;32m/home/rpa/.conda/envs/dask_distributed/lib/python3.5/importlib/__init__.py\u001b[0m in \u001b[0;36mimport_module\u001b[0;34m(name, package)\u001b[0m\n\u001b[1;32m    125\u001b[0m             \u001b[0mlevel\u001b[0m \u001b[0;34m+=\u001b[0m \u001b[0;36m1\u001b[0m\u001b[0;34m\u001b[0m\u001b[0m\n\u001b[0;32m--> 126\u001b[0;31m     \u001b[0;32mreturn\u001b[0m \u001b[0m_bootstrap\u001b[0m\u001b[0;34m.\u001b[0m\u001b[0m_gcd_import\u001b[0m\u001b[0;34m(\u001b[0m\u001b[0mname\u001b[0m\u001b[0;34m[\u001b[0m\u001b[0mlevel\u001b[0m\u001b[0;34m:\u001b[0m\u001b[0;34m]\u001b[0m\u001b[0;34m,\u001b[0m \u001b[0mpackage\u001b[0m\u001b[0;34m,\u001b[0m \u001b[0mlevel\u001b[0m\u001b[0;34m)\u001b[0m\u001b[0;34m\u001b[0m\u001b[0m\n\u001b[0m\u001b[1;32m    127\u001b[0m \u001b[0;34m\u001b[0m\u001b[0m\n",
      "\u001b[0;32m/home/rpa/.conda/envs/dask_distributed/lib/python3.5/importlib/_bootstrap.py\u001b[0m in \u001b[0;36m_gcd_import\u001b[0;34m(name, package, level)\u001b[0m\n",
      "\u001b[0;32m/home/rpa/.conda/envs/dask_distributed/lib/python3.5/importlib/_bootstrap.py\u001b[0m in \u001b[0;36m_find_and_load\u001b[0;34m(name, import_)\u001b[0m\n",
      "\u001b[0;32m/home/rpa/.conda/envs/dask_distributed/lib/python3.5/importlib/_bootstrap.py\u001b[0m in \u001b[0;36m_find_and_load_unlocked\u001b[0;34m(name, import_)\u001b[0m\n",
      "\u001b[0;31mImportError\u001b[0m: No module named 'graphviz'",
      "\nDuring handling of the above exception, another exception occurred:\n",
      "\u001b[0;31mRuntimeError\u001b[0m                              Traceback (most recent call last)",
      "\u001b[0;32m<ipython-input-72-3053cf161817>\u001b[0m in \u001b[0;36m<module>\u001b[0;34m()\u001b[0m\n\u001b[0;32m----> 1\u001b[0;31m \u001b[0;32mfrom\u001b[0m \u001b[0mdask\u001b[0m\u001b[0;34m.\u001b[0m\u001b[0mdot\u001b[0m \u001b[0;32mimport\u001b[0m \u001b[0mdot_graph\u001b[0m\u001b[0;34m\u001b[0m\u001b[0m\n\u001b[0m",
      "\u001b[0;32m/home/rpa/.conda/envs/dask_distributed/lib/python3.5/site-packages/dask/dot.py\u001b[0m in \u001b[0;36m<module>\u001b[0;34m()\u001b[0m\n\u001b[1;32m      9\u001b[0m \u001b[0;34m\u001b[0m\u001b[0m\n\u001b[1;32m     10\u001b[0m \u001b[0;34m\u001b[0m\u001b[0m\n\u001b[0;32m---> 11\u001b[0;31m graphviz = import_required(\"graphviz\", \"Drawing dask graphs requires the \"\n\u001b[0m\u001b[1;32m     12\u001b[0m                                        \u001b[0;34m\"`graphviz` python library and the \"\u001b[0m\u001b[0;34m\u001b[0m\u001b[0m\n\u001b[1;32m     13\u001b[0m                                        \u001b[0;34m\"`graphviz` system library to be \"\u001b[0m\u001b[0;34m\u001b[0m\u001b[0m\n",
      "\u001b[0;32m/home/rpa/.conda/envs/dask_distributed/lib/python3.5/site-packages/dask/utils.py\u001b[0m in \u001b[0;36mimport_required\u001b[0;34m(mod_name, error_msg)\u001b[0m\n\u001b[1;32m     96\u001b[0m         \u001b[0;32mreturn\u001b[0m \u001b[0mimport_module\u001b[0m\u001b[0;34m(\u001b[0m\u001b[0mmod_name\u001b[0m\u001b[0;34m)\u001b[0m\u001b[0;34m\u001b[0m\u001b[0m\n\u001b[1;32m     97\u001b[0m     \u001b[0;32mexcept\u001b[0m \u001b[0mImportError\u001b[0m\u001b[0;34m:\u001b[0m\u001b[0;34m\u001b[0m\u001b[0m\n\u001b[0;32m---> 98\u001b[0;31m         \u001b[0;32mraise\u001b[0m \u001b[0mRuntimeError\u001b[0m\u001b[0;34m(\u001b[0m\u001b[0merror_msg\u001b[0m\u001b[0;34m)\u001b[0m\u001b[0;34m\u001b[0m\u001b[0m\n\u001b[0m\u001b[1;32m     99\u001b[0m \u001b[0;34m\u001b[0m\u001b[0m\n\u001b[1;32m    100\u001b[0m \u001b[0;34m\u001b[0m\u001b[0m\n",
      "\u001b[0;31mRuntimeError\u001b[0m: Drawing dask graphs requires the `graphviz` python library and the `graphviz` system library to be installed."
     ]
    }
   ],
   "source": [
    "from dask.dot import dot_graph"
   ]
  },
  {
   "cell_type": "code",
   "execution_count": null,
   "metadata": {
    "collapsed": true,
    "deletable": true,
    "editable": true
   },
   "outputs": [],
   "source": []
  }
 ],
 "metadata": {
  "kernelspec": {
   "display_name": "Python 3",
   "language": "python",
   "name": "python3"
  },
  "language_info": {
   "codemirror_mode": {
    "name": "ipython",
    "version": 3
   },
   "file_extension": ".py",
   "mimetype": "text/x-python",
   "name": "python",
   "nbconvert_exporter": "python",
   "pygments_lexer": "ipython3",
   "version": "3.5.3"
  }
 },
 "nbformat": 4,
 "nbformat_minor": 2
}
