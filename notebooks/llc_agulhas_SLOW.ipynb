{
 "cells": [
  {
   "cell_type": "code",
   "execution_count": 2,
   "metadata": {
    "collapsed": true
   },
   "outputs": [],
   "source": [
    "import xarray as xr\n",
    "import numpy as np\n",
    "from matplotlib import pyplot as plt\n",
    "%matplotlib inline"
   ]
  },
  {
   "cell_type": "code",
   "execution_count": 3,
   "metadata": {
    "collapsed": false
   },
   "outputs": [
    {
     "data": {
      "text/plain": [
       "<Client: scheduler='tcp://129.236.21.48:8786' processes=1 cores=1>"
      ]
     },
     "execution_count": 3,
     "metadata": {},
     "output_type": "execute_result"
    }
   ],
   "source": [
    "from dask.utils import SerializableLock\n",
    "from dask.distributed import Client\n",
    "client = Client('129.236.21.48:8786')\n",
    "client"
   ]
  },
  {
   "cell_type": "code",
   "execution_count": 3,
   "metadata": {
    "collapsed": false
   },
   "outputs": [
    {
     "name": "stdout",
     "output_type": "stream",
     "text": [
      "CPU times: user 3.75 s, sys: 206 ms, total: 3.95 s\n",
      "Wall time: 6.3 s\n"
     ]
    }
   ],
   "source": [
    "ddir = '/swot/SUM01/LLC/llc_4320_agulhas/'\n",
    "%time ds = xr.open_mfdataset(ddir + 'llc_4320_agulhas.000001*.nc')\n",
    "sl = slice(0,256)\n",
    "region_slice = dict(i=sl, j=sl, i_g=sl, j_g=sl)\n",
    "reg = ds.isel(**region_slice)"
   ]
  },
  {
   "cell_type": "code",
   "execution_count": 4,
   "metadata": {
    "collapsed": false
   },
   "outputs": [
    {
     "name": "stderr",
     "output_type": "stream",
     "text": [
      "/home/rpa/.conda/envs/dask_distributed/lib/python3.5/site-packages/dask/array/core.py:465: RuntimeWarning: overflow encountered in square\n",
      "  o = func(*args, **kwargs)\n"
     ]
    },
    {
     "data": {
      "text/plain": [
       "<xarray.DataArray 'Salt' (k: 90)>\n",
       "dask.array<mean_ag..., shape=(90,), dtype=float32, chunksize=(90,)>\n",
       "Coordinates:\n",
       "  * k        (k) int64 0 1 2 3 4 5 6 7 8 9 10 11 12 13 14 15 16 17 18 19 20 ...\n",
       "    face     int64 1"
      ]
     },
     "execution_count": 4,
     "metadata": {},
     "output_type": "execute_result"
    }
   ],
   "source": [
    "salt_sq_profile = (reg.Salt**2).mean(dim=('time', 'j', 'i'))\n",
    "salt_sq_profile"
   ]
  },
  {
   "cell_type": "code",
   "execution_count": 5,
   "metadata": {
    "collapsed": false
   },
   "outputs": [
    {
     "name": "stdout",
     "output_type": "stream",
     "text": [
      "1.58072832\n",
      "CPU times: user 4.14 s, sys: 1min 21s, total: 1min 25s\n",
      "Wall time: 5min 43s\n"
     ]
    },
    {
     "data": {
      "text/plain": [
       "<xarray.DataArray 'Salt' (k: 90)>\n",
       "array([ 1145.026611,  1145.012939,  1145.00647 ,  1145.002197,  1144.999268,\n",
       "        1144.997314,  1144.995972,  1144.994995,  1144.994751,  1144.994995,\n",
       "        1144.996338,  1145.000244,  1145.009155,  1145.023926,  1145.044312,\n",
       "        1145.067505,  1145.091675,  1145.118774,  1145.144897,  1145.170532,\n",
       "        1145.199585,  1145.239746,  1145.328003,  1145.771118,  1148.019531,\n",
       "        1154.254517,  1163.293701,  1171.090454,  1175.198853,  1176.563843,\n",
       "        1177.584839,  1179.678345,  1182.645874,  1185.531494,  1187.729004,\n",
       "        1189.335815,  1190.763916,  1192.262207,  1193.797974,  1195.224365,\n",
       "        1196.46106 ,  1197.53125 ,  1198.494385,  1199.386475,  1200.208862,\n",
       "        1200.951416,  1201.612793,  1202.202393,  1202.732544,  1203.210205,\n",
       "        1203.636475,  1204.009399,  1204.327515,  1204.590942,  1204.800781,\n",
       "        1204.958008,  1205.06311 ,  1205.116455,  1205.120117,  1205.077271,\n",
       "        1204.993408,  1204.874634,  1204.728638,  1204.56311 ,  1204.383789,\n",
       "        1204.195312,  1204.000488,  1203.800537,  1203.595337,  1203.386475,\n",
       "        1203.175903,  1202.967651,  1202.765503,  1202.571777,  1202.386353,\n",
       "        1202.129761,  1200.527954,  1198.075317,  1193.650635,  1176.246094,\n",
       "        1114.977905,   977.22052 ,   573.803162,   298.054291,    67.236229,\n",
       "           2.822858,     0.      ,     0.      ,     0.      ,     0.      ], dtype=float32)\n",
       "Coordinates:\n",
       "  * k        (k) int64 0 1 2 3 4 5 6 7 8 9 10 11 12 13 14 15 16 17 18 19 20 ...\n",
       "    face     int64 1"
      ]
     },
     "execution_count": 5,
     "metadata": {},
     "output_type": "execute_result"
    }
   ],
   "source": [
    "# without distributed\n",
    "print(reg.Salt.nbytes / 1e9)\n",
    "%time salt_sq_profile.load()"
   ]
  },
  {
   "cell_type": "code",
   "execution_count": 6,
   "metadata": {
    "collapsed": false
   },
   "outputs": [
    {
     "name": "stdout",
     "output_type": "stream",
     "text": [
      "1.58072832\n",
      "<Client: scheduler='tcp://129.236.21.48:8786' processes=1 cores=1>\n",
      "CPU times: user 315 ms, sys: 56.7 ms, total: 372 ms\n",
      "Wall time: 8min 48s\n"
     ]
    },
    {
     "data": {
      "text/plain": [
       "<xarray.DataArray 'Salt' (k: 90)>\n",
       "array([ 1145.026611,  1145.012939,  1145.00647 ,  1145.002197,  1144.999268,\n",
       "        1144.997314,  1144.995972,  1144.994995,  1144.994751,  1144.994995,\n",
       "        1144.996338,  1145.000244,  1145.009155,  1145.023926,  1145.044312,\n",
       "        1145.067505,  1145.091675,  1145.118774,  1145.144897,  1145.170532,\n",
       "        1145.199585,  1145.239746,  1145.328003,  1145.771118,  1148.019531,\n",
       "        1154.254517,  1163.293701,  1171.090454,  1175.198853,  1176.563843,\n",
       "        1177.584839,  1179.678345,  1182.645874,  1185.531494,  1187.729004,\n",
       "        1189.335815,  1190.763916,  1192.262207,  1193.797974,  1195.224365,\n",
       "        1196.46106 ,  1197.53125 ,  1198.494385,  1199.386475,  1200.208862,\n",
       "        1200.951416,  1201.612793,  1202.202393,  1202.732544,  1203.210205,\n",
       "        1203.636475,  1204.009399,  1204.327515,  1204.590942,  1204.800781,\n",
       "        1204.958008,  1205.06311 ,  1205.116455,  1205.120117,  1205.077271,\n",
       "        1204.993408,  1204.874634,  1204.728638,  1204.56311 ,  1204.383789,\n",
       "        1204.195312,  1204.000488,  1203.800537,  1203.595337,  1203.386475,\n",
       "        1203.175903,  1202.967651,  1202.765503,  1202.571777,  1202.386353,\n",
       "        1202.129761,  1200.527954,  1198.075317,  1193.650635,  1176.246094,\n",
       "        1114.977905,   977.22052 ,   573.803162,   298.054291,    67.236229,\n",
       "           2.822858,     0.      ,     0.      ,     0.      ,     0.      ], dtype=float32)\n",
       "Coordinates:\n",
       "  * k        (k) int64 0 1 2 3 4 5 6 7 8 9 10 11 12 13 14 15 16 17 18 19 20 ...\n",
       "    face     int64 1"
      ]
     },
     "execution_count": 6,
     "metadata": {},
     "output_type": "execute_result"
    }
   ],
   "source": [
    "print(reg.Salt.nbytes / 1e9)\n",
    "print(client)\n",
    "%time salt_sq_profile.load()"
   ]
  },
  {
   "cell_type": "code",
   "execution_count": 28,
   "metadata": {
    "collapsed": false
   },
   "outputs": [],
   "source": [
    "client.shutdown()"
   ]
  },
  {
   "cell_type": "code",
   "execution_count": 7,
   "metadata": {
    "collapsed": false
   },
   "outputs": [
    {
     "name": "stdout",
     "output_type": "stream",
     "text": [
      "3.125 MB/s\n"
     ]
    }
   ],
   "source": [
    "# 8 minutes to read 1.5 GB of data\n",
    "# one worker, one process, one thread\n",
    "print('%g MB/s' % (1.5e3 / (8*60)))"
   ]
  },
  {
   "cell_type": "code",
   "execution_count": 27,
   "metadata": {
    "collapsed": false
   },
   "outputs": [
    {
     "name": "stdout",
     "output_type": "stream",
     "text": [
      "CPU times: user 42.7 ms, sys: 3.01 ms, total: 45.7 ms\n",
      "Wall time: 44.6 ms\n"
     ]
    }
   ],
   "source": [
    "%time ds_single = xr.open_dataset(ddir + 'llc_4320_agulhas.0000010368.nc')"
   ]
  },
  {
   "cell_type": "code",
   "execution_count": 28,
   "metadata": {
    "collapsed": false
   },
   "outputs": [
    {
     "data": {
      "text/plain": [
       "<xarray.Dataset>\n",
       "Dimensions:   (i: 2160, i_g: 2160, j: 2160, j_g: 2160, k: 90, k_l: 90, k_p1: 91, k_u: 90, time: 1)\n",
       "Coordinates:\n",
       "  * j         (j) float64 0.0 1.0 2.0 3.0 4.0 5.0 6.0 7.0 8.0 9.0 10.0 11.0 ...\n",
       "  * k         (k) int64 0 1 2 3 4 5 6 7 8 9 10 11 12 13 14 15 16 17 18 19 20 ...\n",
       "  * j_g       (j_g) float64 0.0 1.0 2.0 3.0 4.0 5.0 6.0 7.0 8.0 9.0 10.0 ...\n",
       "  * i         (i) int64 1080 1081 1082 1083 1084 1085 1086 1087 1088 1089 ...\n",
       "  * k_p1      (k_p1) int64 0 1 2 3 4 5 6 7 8 9 10 11 12 13 14 15 16 17 18 19 ...\n",
       "  * k_u       (k_u) int64 0 1 2 3 4 5 6 7 8 9 10 11 12 13 14 15 16 17 18 19 ...\n",
       "  * i_g       (i_g) int64 1080 1081 1082 1083 1084 1085 1086 1087 1088 1089 ...\n",
       "  * k_l       (k_l) int64 0 1 2 3 4 5 6 7 8 9 10 11 12 13 14 15 16 17 18 19 ...\n",
       "    face      int64 1\n",
       "  * time      (time) timedelta64[ns] 3 days\n",
       "    iter      (time) int64 10368\n",
       "Data variables:\n",
       "    PhiBot    (time, j, i) float32 0.0 0.0 0.0 0.0 0.0 0.0 0.0 0.0 0.0 0.0 ...\n",
       "    oceQnet   (time, j, i) float32 0.0 0.0 0.0 0.0 0.0 0.0 0.0 0.0 0.0 0.0 ...\n",
       "    SIvice    (time, j_g, i) float32 0.0516454 0.0523205 0.0308559 ...\n",
       "    SIhsalt   (time, j, i) float32 0.0 0.0 0.0 0.0 0.0 0.0 0.0 0.0 0.0 0.0 ...\n",
       "    oceFWflx  (time, j, i) float32 0.0 0.0 0.0 0.0 0.0 0.0 0.0 0.0 0.0 0.0 ...\n",
       "    V         (time, k, j_g, i) float32 0.0491903 0.0496442 0.0276739 ...\n",
       "    oceQsw    (time, j, i) float32 0.0 0.0 0.0 0.0 0.0 0.0 0.0 0.0 0.0 0.0 ...\n",
       "    oceTAUY   (time, j_g, i) float32 0.0 0.0 0.0 0.0 0.0 0.0 0.0 0.0 0.0 0.0 ...\n",
       "    Theta     (time, k, j, i) float32 -1.31868 -1.27825 -1.21401 -1.17964 ...\n",
       "    SIhsnow   (time, j, i) float32 0.0 0.0 0.0 0.0 0.0 0.0 0.0 0.0 0.0 0.0 ...\n",
       "    U         (time, k, j, i_g) float32 0.0281392 0.0203967 0.0075199 ...\n",
       "    SIheff    (time, j, i) float32 0.0 0.0 0.0 0.0 0.0 0.0 0.0 0.0 0.0 0.0 ...\n",
       "    SIuice    (time, j, i_g) float32 -0.041163 -0.0487612 -0.0614498 ...\n",
       "    SIarea    (time, j, i) float32 0.0 0.0 0.0 0.0 0.0 0.0 0.0 0.0 0.0 0.0 ...\n",
       "    Salt      (time, k, j, i) float32 33.7534 33.7652 33.7755 33.7723 ...\n",
       "    oceSflux  (time, j, i) float32 0.0 0.0 0.0 0.0 0.0 0.0 0.0 0.0 0.0 0.0 ...\n",
       "    W         (time, k_l, j, i) float32 -2.27453e-05 -2.28018e-05 ...\n",
       "    oceTAUX   (time, j, i_g) float32 0.0 0.0 0.0 0.0 0.0 0.0 0.0 0.0 0.0 0.0 ...\n",
       "    Eta       (time, j, i) float32 -1.28886 -1.28811 -1.2871 -1.28567 ..."
      ]
     },
     "execution_count": 28,
     "metadata": {},
     "output_type": "execute_result"
    }
   ],
   "source": [
    "ds_single"
   ]
  },
  {
   "cell_type": "code",
   "execution_count": 29,
   "metadata": {
    "collapsed": false
   },
   "outputs": [
    {
     "name": "stdout",
     "output_type": "stream",
     "text": [
      "1.679616\n",
      "CPU times: user 1.48 ms, sys: 647 ms, total: 649 ms\n",
      "Wall time: 643 ms\n"
     ]
    },
    {
     "data": {
      "text/plain": [
       "<xarray.DataArray 'Salt' (time: 1, k: 90, j: 2160, i: 2160)>\n",
       "array([[[[ 33.753368, ...,  33.915161],\n",
       "         ..., \n",
       "         [ 36.108173, ...,   0.      ]],\n",
       "\n",
       "        ..., \n",
       "        [[  0.      , ...,   0.      ],\n",
       "         ..., \n",
       "         [  0.      , ...,   0.      ]]]], dtype=float32)\n",
       "Coordinates:\n",
       "  * j        (j) float64 0.0 1.0 2.0 3.0 4.0 5.0 6.0 7.0 8.0 9.0 10.0 11.0 ...\n",
       "  * k        (k) int64 0 1 2 3 4 5 6 7 8 9 10 11 12 13 14 15 16 17 18 19 20 ...\n",
       "  * i        (i) int64 1080 1081 1082 1083 1084 1085 1086 1087 1088 1089 ...\n",
       "    face     int64 1\n",
       "  * time     (time) timedelta64[ns] 3 days\n",
       "    iter     (time) int64 10368\n",
       "Attributes:\n",
       "    standard_name: SALT\n",
       "    long_name: Salinity\n",
       "    units: psu"
      ]
     },
     "execution_count": 29,
     "metadata": {},
     "output_type": "execute_result"
    }
   ],
   "source": [
    "print(ds_single.Salt.nbytes / 1e9)\n",
    "%time ds_single.Salt.load()"
   ]
  },
  {
   "cell_type": "code",
   "execution_count": 30,
   "metadata": {
    "collapsed": false
   },
   "outputs": [
    {
     "name": "stdout",
     "output_type": "stream",
     "text": [
      "0.02359296\n",
      "CPU times: user 16.7 ms, sys: 61 ms, total: 77.8 ms\n",
      "Wall time: 76.9 ms\n"
     ]
    },
    {
     "data": {
      "text/plain": [
       "<xarray.DataArray 'Theta' (time: 1, k: 90, j: 256, i: 256)>\n",
       "array([[[[-1.318675, ..., -1.13113 ],\n",
       "         ..., \n",
       "         [ 0.64202 , ...,  0.445646]],\n",
       "\n",
       "        ..., \n",
       "        [[ 0.      , ...,  0.      ],\n",
       "         ..., \n",
       "         [ 0.      , ...,  0.      ]]]], dtype=float32)\n",
       "Coordinates:\n",
       "  * j        (j) float64 0.0 1.0 2.0 3.0 4.0 5.0 6.0 7.0 8.0 9.0 10.0 11.0 ...\n",
       "  * k        (k) int64 0 1 2 3 4 5 6 7 8 9 10 11 12 13 14 15 16 17 18 19 20 ...\n",
       "  * i        (i) int64 1080 1081 1082 1083 1084 1085 1086 1087 1088 1089 ...\n",
       "    face     int64 1\n",
       "  * time     (time) timedelta64[ns] 3 days\n",
       "    iter     (time) int64 10368\n",
       "Attributes:\n",
       "    standard_name: THETA\n",
       "    long_name: Potential Temperature\n",
       "    units: degC"
      ]
     },
     "execution_count": 30,
     "metadata": {},
     "output_type": "execute_result"
    }
   ],
   "source": [
    "print(ds_single.isel(**region_slice).Theta.nbytes/1e9)\n",
    "%time ds_single.isel(**region_slice).Theta.load()"
   ]
  },
  {
   "cell_type": "code",
   "execution_count": 21,
   "metadata": {
    "collapsed": false
   },
   "outputs": [
    {
     "data": {
      "text/plain": [
       "{'i': slice(0, 256, None),\n",
       " 'i_g': slice(0, 256, None),\n",
       " 'j': slice(0, 256, None),\n",
       " 'j_g': slice(0, 256, None)}"
      ]
     },
     "execution_count": 21,
     "metadata": {},
     "output_type": "execute_result"
    }
   ],
   "source": [
    "region_slice"
   ]
  },
  {
   "cell_type": "code",
   "execution_count": null,
   "metadata": {
    "collapsed": true
   },
   "outputs": [],
   "source": []
  }
 ],
 "metadata": {
  "kernelspec": {
   "display_name": "Python [conda env:dask_distributed]",
   "language": "python",
   "name": "conda-env-dask_distributed-py"
  },
  "language_info": {
   "codemirror_mode": {
    "name": "ipython",
    "version": 3
   },
   "file_extension": ".py",
   "mimetype": "text/x-python",
   "name": "python",
   "nbconvert_exporter": "python",
   "pygments_lexer": "ipython3",
   "version": "3.5.3"
  }
 },
 "nbformat": 4,
 "nbformat_minor": 2
}
