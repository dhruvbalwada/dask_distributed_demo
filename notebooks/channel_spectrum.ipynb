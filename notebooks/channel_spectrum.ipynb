{
 "cells": [
  {
   "cell_type": "code",
   "execution_count": 25,
   "metadata": {
    "collapsed": false
   },
   "outputs": [],
   "source": [
    "import xgcm\n",
    "import xmitgcm\n",
    "import xrft\n",
    "import numpy as np\n",
    "from matplotlib import pyplot as plt\n",
    "%matplotlib inline"
   ]
  },
  {
   "cell_type": "code",
   "execution_count": 69,
   "metadata": {
    "collapsed": false
   },
   "outputs": [
    {
     "data": {
      "text/plain": [
       "<Client: scheduler='tcp://129.236.21.48:8786' processes=1 cores=32>"
      ]
     },
     "execution_count": 69,
     "metadata": {},
     "output_type": "execute_result"
    }
   ],
   "source": [
    "from dask.utils import SerializableLock\n",
    "from dask.distributed import Client\n",
    "client = Client('129.236.21.48:8786')\n",
    "client"
   ]
  },
  {
   "cell_type": "code",
   "execution_count": 3,
   "metadata": {
    "collapsed": false
   },
   "outputs": [
    {
     "name": "stderr",
     "output_type": "stream",
     "text": [
      "/home/rpa/xmitgcm/xmitgcm/utils.py:314: UserWarning: Not sure what to do with rlev = L\n",
      "  warnings.warn(\"Not sure what to do with rlev = \" + rlev)\n"
     ]
    },
    {
     "data": {
      "text/plain": [
       "<xarray.Dataset>\n",
       "Dimensions:              (XC: 200, XG: 200, YC: 400, YG: 400, Z: 40, Zl: 40, Zp1: 41, Zu: 40, layer_1TH_bounds: 43, layer_1TH_center: 42, layer_1TH_interface: 41, time: 719)\n",
       "Coordinates:\n",
       "    iter                 (time) int64 2073840 2074320 2074800 2075280 ...\n",
       "  * time                 (time) int64 2073840 2074320 2074800 2075280 ...\n",
       "  * XG                   (XG) >f4 0.0 5000.0 10000.0 15000.0 20000.0 25000.0 ...\n",
       "  * XC                   (XC) >f4 2500.0 7500.0 12500.0 17500.0 22500.0 ...\n",
       "  * YG                   (YG) >f4 0.0 5000.0 10000.0 15000.0 20000.0 25000.0 ...\n",
       "  * YC                   (YC) >f4 2500.0 7500.0 12500.0 17500.0 22500.0 ...\n",
       "  * Zp1                  (Zp1) float32 0.0 -10.0 -20.0 -30.0 -42.0 -56.0 ...\n",
       "  * Z                    (Z) float32 -5.0 -15.0 -25.0 -36.0 -49.0 -64.0 ...\n",
       "  * Zu                   (Zu) float32 -10.0 -20.0 -30.0 -42.0 -56.0 -72.0 ...\n",
       "  * Zl                   (Zl) float32 0.0 -10.0 -20.0 -30.0 -42.0 -56.0 ...\n",
       "    rA                   (YC, XC) >f4 2.5e+07 2.5e+07 2.5e+07 2.5e+07 ...\n",
       "    dyC                  (YG, XC) >f4 5000.0 5000.0 5000.0 5000.0 5000.0 ...\n",
       "    rAz                  (YG, XG) >f4 2.5e+07 2.5e+07 2.5e+07 2.5e+07 ...\n",
       "    dxG                  (YG, XC) >f4 5000.0 5000.0 5000.0 5000.0 5000.0 ...\n",
       "    rAw                  (YC, XG) >f4 2.5e+07 2.5e+07 2.5e+07 2.5e+07 ...\n",
       "    dyG                  (YC, XG) >f4 5000.0 5000.0 5000.0 5000.0 5000.0 ...\n",
       "    rAs                  (YG, XC) >f4 2.5e+07 2.5e+07 2.5e+07 2.5e+07 ...\n",
       "    Depth                (YC, XC) >f4 0.0 0.0 0.0 0.0 0.0 0.0 0.0 0.0 0.0 ...\n",
       "    dxC                  (YC, XG) >f4 5000.0 5000.0 5000.0 5000.0 5000.0 ...\n",
       "    drC                  (Zp1) float32 5.0 10.0 10.0 11.0 13.0 15.0 17.5 ...\n",
       "    PHrefF               (Zp1) float32 0.0 98.1 196.2 294.3 412.02 549.36 ...\n",
       "    drF                  (Z) float32 10.0 10.0 10.0 12.0 14.0 16.0 19.0 22.0 ...\n",
       "    PHrefC               (Z) float32 49.05 147.15 245.25 353.16 480.69 ...\n",
       "    hFacW                (Z, YC, XG) >f4 0.0 0.0 0.0 0.0 0.0 0.0 0.0 0.0 0.0 ...\n",
       "    hFacS                (Z, YG, XC) >f4 0.0 0.0 0.0 0.0 0.0 0.0 0.0 0.0 0.0 ...\n",
       "    hFacC                (Z, YC, XC) >f4 0.0 0.0 0.0 0.0 0.0 0.0 0.0 0.0 0.0 ...\n",
       "  * layer_1TH_interface  (layer_1TH_interface) float32 0.0 0.2 0.4 0.6 0.8 ...\n",
       "  * layer_1TH_bounds     (layer_1TH_bounds) float32 -0.2 0.0 0.2 0.4 0.6 0.8 ...\n",
       "  * layer_1TH_center     (layer_1TH_center) float32 -0.1 0.1 0.3 0.5 0.7 0.9 ...\n",
       "Data variables:\n",
       "    VVEL                 (time, Z, YG, XC) float32 0.0 0.0 0.0 0.0 0.0 0.0 ...\n",
       "    UVEL                 (time, Z, YC, XG) float32 0.0 0.0 0.0 0.0 0.0 0.0 ...\n",
       "    WVEL                 (time, Zl, YC, XC) float32 0.0 0.0 0.0 0.0 0.0 0.0 ...\n",
       "    PHIHYD               (time, Z, YC, XC) float32 0.07848 0.07848 0.07848 ...\n",
       "    THETA                (time, Z, YC, XC) float32 0.0 0.0 0.0 0.0 0.0 0.0 ..."
      ]
     },
     "execution_count": 3,
     "metadata": {},
     "output_type": "execute_result"
    }
   ],
   "source": [
    "ddir = '/swot/SUM03/channel_moc/GCM/run'\n",
    "iters = list(range(2073840,2418960,480))\n",
    "ds = xmitgcm.open_mdsdataset(ddir, prefix=['Diag_ThPhUVW'], iters=iters)\n",
    "ds"
   ]
  },
  {
   "cell_type": "code",
   "execution_count": 16,
   "metadata": {
    "collapsed": false
   },
   "outputs": [
    {
     "data": {
      "text/plain": [
       "9.2032"
      ]
     },
     "execution_count": 16,
     "metadata": {},
     "output_type": "execute_result"
    }
   ],
   "source": [
    "ds.WVEL.nbytes / 1e9"
   ]
  },
  {
   "cell_type": "code",
   "execution_count": 25,
   "metadata": {
    "collapsed": false
   },
   "outputs": [
    {
     "data": {
      "text/plain": [
       "<xarray.DataArray 'WVEL' (Zl: 40)>\n",
       "dask.array<mean_ag..., shape=(40,), dtype=float32, chunksize=(40,)>\n",
       "Coordinates:\n",
       "  * Zl       (Zl) float32 0.0 -10.0 -20.0 -30.0 -42.0 -56.0 -72.0 -91.0 ..."
      ]
     },
     "execution_count": 25,
     "metadata": {},
     "output_type": "execute_result"
    }
   ],
   "source": [
    "w_sq_profile = ds.WVEL.mean(dim=('time', 'YC', 'XC'))\n",
    "w_sq_profile"
   ]
  },
  {
   "cell_type": "code",
   "execution_count": 26,
   "metadata": {
    "collapsed": false
   },
   "outputs": [
    {
     "name": "stdout",
     "output_type": "stream",
     "text": [
      "CPU times: user 574 ms, sys: 45.6 ms, total: 620 ms\n",
      "Wall time: 25.7 s\n"
     ]
    },
    {
     "data": {
      "text/plain": [
       "<xarray.DataArray 'WVEL' (Zl: 40)>\n",
       "array([ -5.607259e-18,  -6.152687e-16,  -3.416361e-15,   2.752518e-15,\n",
       "         3.562082e-16,  -2.898239e-15,   1.003860e-15,   1.084816e-15,\n",
       "        -3.509461e-15,   2.023910e-15,  -2.396310e-15,  -9.208792e-15,\n",
       "         8.091593e-15,  -9.459757e-15,  -5.909818e-15,  -2.287019e-16,\n",
       "        -3.966864e-15,   1.914619e-15,  -1.188035e-15,  -3.863645e-15,\n",
       "        -1.576626e-15,  -1.329709e-15,   1.981408e-15,  -5.794455e-15,\n",
       "        -4.436411e-15,  -3.539819e-15,  -1.052433e-16,   3.400169e-15,\n",
       "        -7.763720e-15,  -2.412501e-15,  -2.378095e-15,   4.250212e-17,\n",
       "        -4.661066e-15,   5.990774e-16,   4.250212e-16,   4.082227e-15,\n",
       "         6.172927e-17,   2.152429e-15,  -2.580486e-15,  -2.596677e-15], dtype=float32)\n",
       "Coordinates:\n",
       "  * Zl       (Zl) float32 0.0 -10.0 -20.0 -30.0 -42.0 -56.0 -72.0 -91.0 ..."
      ]
     },
     "execution_count": 26,
     "metadata": {},
     "output_type": "execute_result"
    }
   ],
   "source": [
    "%time w_sq_profile.load()"
   ]
  },
  {
   "cell_type": "code",
   "execution_count": 70,
   "metadata": {
    "collapsed": false
   },
   "outputs": [
    {
     "name": "stderr",
     "output_type": "stream",
     "text": [
      "/home/rpa/.conda/envs/dask_distributed/lib/python3.5/site-packages/ipykernel/__main__.py:2: DeprecationWarning: pandas.core.common.is_timedelta64_dtype is deprecated. import from the public API: pandas.api.types.is_timedelta64_dtype instead\n",
      "  from ipykernel import kernelapp as app\n"
     ]
    },
    {
     "data": {
      "text/plain": [
       "<xarray.DataArray 'fft-f81560613af5a4482611b7ccd03da6e7' (freq_XC: 100)>\n",
       "dask.array<astype-..., shape=(100,), dtype=float64, chunksize=(100,)>\n",
       "Coordinates:\n",
       "  * freq_XC          (freq_XC) float64 0.0 1e-06 2e-06 3e-06 4e-06 5e-06 ...\n",
       "    freq_XC_spacing  float64 1e-06"
      ]
     },
     "execution_count": 70,
     "metadata": {},
     "output_type": "execute_result"
    }
   ],
   "source": [
    "#v_fft = xrft.dft(ds.VVEL, dim=['XC'], shift=False)\n",
    "v_fft = xrft.dft(ds.VVEL[::4,0], dim=['XC'], shift=False)\n",
    "pow_spec = (v_fft*v_fft.conj()).isel(freq_XC=slice(0,len(ds.XC)//2)).mean(dim=('YG','time')).astype('f8')\n",
    "pow_spec"
   ]
  },
  {
   "cell_type": "code",
   "execution_count": 71,
   "metadata": {
    "collapsed": false
   },
   "outputs": [
    {
     "data": {
      "text/plain": [
       "<xarray.DataArray 'fft-f81560613af5a4482611b7ccd03da6e7' (freq_XC: 100)>\n",
       "array([  3.712837e-13,   2.027773e+01,   1.001360e+02,   1.906462e+02,\n",
       "         1.776942e+02,   1.333660e+02,   9.993586e+01,   7.099582e+01,\n",
       "         5.477914e+01,   4.022300e+01,   3.090806e+01,   2.419133e+01,\n",
       "         1.904378e+01,   1.558797e+01,   1.235109e+01,   1.020528e+01,\n",
       "         8.542997e+00,   7.107294e+00,   6.094673e+00,   5.150033e+00,\n",
       "         4.465075e+00,   3.844501e+00,   3.317746e+00,   2.903649e+00,\n",
       "         2.522106e+00,   2.244634e+00,   2.014233e+00,   1.758989e+00,\n",
       "         1.560076e+00,   1.414001e+00,   1.253286e+00,   1.113787e+00,\n",
       "         9.968556e-01,   9.103171e-01,   8.152889e-01,   7.359249e-01,\n",
       "         6.576561e-01,   6.058506e-01,   5.387253e-01,   4.825169e-01,\n",
       "         4.364177e-01,   3.922862e-01,   3.591411e-01,   3.228397e-01,\n",
       "         2.980982e-01,   2.701289e-01,   2.459009e-01,   2.224000e-01,\n",
       "         2.016662e-01,   1.861596e-01,   1.696363e-01,   1.544698e-01,\n",
       "         1.388476e-01,   1.265398e-01,   1.163052e-01,   1.059787e-01,\n",
       "         9.784169e-02,   8.945295e-02,   8.127574e-02,   7.399738e-02,\n",
       "         6.730031e-02,   6.196018e-02,   5.666592e-02,   5.203285e-02,\n",
       "         4.712817e-02,   4.354669e-02,   4.016866e-02,   3.694232e-02,\n",
       "         3.375995e-02,   3.043486e-02,   2.832988e-02,   2.583403e-02,\n",
       "         2.388498e-02,   2.190163e-02,   2.016423e-02,   1.829703e-02,\n",
       "         1.692485e-02,   1.585371e-02,   1.439688e-02,   1.323958e-02,\n",
       "         1.233856e-02,   1.131147e-02,   1.050903e-02,   9.692228e-03,\n",
       "         9.212421e-03,   8.668800e-03,   7.996905e-03,   7.510738e-03,\n",
       "         7.057342e-03,   6.690065e-03,   6.410498e-03,   6.035529e-03,\n",
       "         5.806923e-03,   5.626927e-03,   5.384768e-03,   5.336121e-03,\n",
       "         5.098383e-03,   5.035324e-03,   4.940037e-03,   4.979885e-03])\n",
       "Coordinates:\n",
       "  * freq_XC          (freq_XC) float64 0.0 1e-06 2e-06 3e-06 4e-06 5e-06 ...\n",
       "    freq_XC_spacing  float64 1e-06"
      ]
     },
     "execution_count": 71,
     "metadata": {},
     "output_type": "execute_result"
    }
   ],
   "source": [
    "pow_spec.load()"
   ]
  },
  {
   "cell_type": "code",
   "execution_count": 54,
   "metadata": {
    "collapsed": false
   },
   "outputs": [
    {
     "data": {
      "text/plain": [
       "(0.01, 500.0)"
      ]
     },
     "execution_count": 54,
     "metadata": {},
     "output_type": "execute_result"
    },
    {
     "data": {
      "image/png": "[encoded data removed]",
      "text/plain": [
       "<matplotlib.figure.Figure at 0x7f6ec529b240>"
      ]
     },
     "metadata": {},
     "output_type": "display_data"
    }
   ],
   "source": [
    "fig, ax = plt.subplots()\n",
    "pow_spec[0].plot(ax=ax)\n",
    "ax.set_xscale('log')\n",
    "ax.set_yscale('log')\n",
    "ax.set_ylim([1e-2,5e2])"
   ]
  },
  {
   "cell_type": "code",
   "execution_count": 72,
   "metadata": {
    "collapsed": false
   },
   "outputs": [
    {
     "ename": "RuntimeError",
     "evalue": "Drawing dask graphs requires the `graphviz` python library and the `graphviz` system library to be installed.",
     "output_type": "error",
     "traceback": [
      "\u001b[0;31m---------------------------------------------------------------------------\u001b[0m",
      "\u001b[0;31mImportError\u001b[0m                               Traceback (most recent call last)",
      "\u001b[0;32m/home/rpa/.conda/envs/dask_distributed/lib/python3.5/site-packages/dask/utils.py\u001b[0m in \u001b[0;36mimport_required\u001b[0;34m(mod_name, error_msg)\u001b[0m\n\u001b[1;32m     95\u001b[0m     \u001b[0;32mtry\u001b[0m\u001b[0;34m:\u001b[0m\u001b[0;34m\u001b[0m\u001b[0m\n\u001b[0;32m---> 96\u001b[0;31m         \u001b[0;32mreturn\u001b[0m \u001b[0mimport_module\u001b[0m\u001b[0;34m(\u001b[0m\u001b[0mmod_name\u001b[0m\u001b[0;34m)\u001b[0m\u001b[0;34m\u001b[0m\u001b[0m\n\u001b[0m\u001b[1;32m     97\u001b[0m     \u001b[0;32mexcept\u001b[0m \u001b[0mImportError\u001b[0m\u001b[0;34m:\u001b[0m\u001b[0;34m\u001b[0m\u001b[0m\n",
      "\u001b[0;32m/home/rpa/.conda/envs/dask_distributed/lib/python3.5/importlib/__init__.py\u001b[0m in \u001b[0;36mimport_module\u001b[0;34m(name, package)\u001b[0m\n\u001b[1;32m    125\u001b[0m             \u001b[0mlevel\u001b[0m \u001b[0;34m+=\u001b[0m \u001b[0;36m1\u001b[0m\u001b[0;34m\u001b[0m\u001b[0m\n\u001b[0;32m--> 126\u001b[0;31m     \u001b[0;32mreturn\u001b[0m \u001b[0m_bootstrap\u001b[0m\u001b[0;34m.\u001b[0m\u001b[0m_gcd_import\u001b[0m\u001b[0;34m(\u001b[0m\u001b[0mname\u001b[0m\u001b[0;34m[\u001b[0m\u001b[0mlevel\u001b[0m\u001b[0;34m:\u001b[0m\u001b[0;34m]\u001b[0m\u001b[0;34m,\u001b[0m \u001b[0mpackage\u001b[0m\u001b[0;34m,\u001b[0m \u001b[0mlevel\u001b[0m\u001b[0;34m)\u001b[0m\u001b[0;34m\u001b[0m\u001b[0m\n\u001b[0m\u001b[1;32m    127\u001b[0m \u001b[0;34m\u001b[0m\u001b[0m\n",
      "\u001b[0;32m/home/rpa/.conda/envs/dask_distributed/lib/python3.5/importlib/_bootstrap.py\u001b[0m in \u001b[0;36m_gcd_import\u001b[0;34m(name, package, level)\u001b[0m\n",
      "\u001b[0;32m/home/rpa/.conda/envs/dask_distributed/lib/python3.5/importlib/_bootstrap.py\u001b[0m in \u001b[0;36m_find_and_load\u001b[0;34m(name, import_)\u001b[0m\n",
      "\u001b[0;32m/home/rpa/.conda/envs/dask_distributed/lib/python3.5/importlib/_bootstrap.py\u001b[0m in \u001b[0;36m_find_and_load_unlocked\u001b[0;34m(name, import_)\u001b[0m\n",
      "\u001b[0;31mImportError\u001b[0m: No module named 'graphviz'",
      "\nDuring handling of the above exception, another exception occurred:\n",
      "\u001b[0;31mRuntimeError\u001b[0m                              Traceback (most recent call last)",
      "\u001b[0;32m<ipython-input-72-3053cf161817>\u001b[0m in \u001b[0;36m<module>\u001b[0;34m()\u001b[0m\n\u001b[0;32m----> 1\u001b[0;31m \u001b[0;32mfrom\u001b[0m \u001b[0mdask\u001b[0m\u001b[0;34m.\u001b[0m\u001b[0mdot\u001b[0m \u001b[0;32mimport\u001b[0m \u001b[0mdot_graph\u001b[0m\u001b[0;34m\u001b[0m\u001b[0m\n\u001b[0m",
      "\u001b[0;32m/home/rpa/.conda/envs/dask_distributed/lib/python3.5/site-packages/dask/dot.py\u001b[0m in \u001b[0;36m<module>\u001b[0;34m()\u001b[0m\n\u001b[1;32m      9\u001b[0m \u001b[0;34m\u001b[0m\u001b[0m\n\u001b[1;32m     10\u001b[0m \u001b[0;34m\u001b[0m\u001b[0m\n\u001b[0;32m---> 11\u001b[0;31m graphviz = import_required(\"graphviz\", \"Drawing dask graphs requires the \"\n\u001b[0m\u001b[1;32m     12\u001b[0m                                        \u001b[0;34m\"`graphviz` python library and the \"\u001b[0m\u001b[0;34m\u001b[0m\u001b[0m\n\u001b[1;32m     13\u001b[0m                                        \u001b[0;34m\"`graphviz` system library to be \"\u001b[0m\u001b[0;34m\u001b[0m\u001b[0m\n",
      "\u001b[0;32m/home/rpa/.conda/envs/dask_distributed/lib/python3.5/site-packages/dask/utils.py\u001b[0m in \u001b[0;36mimport_required\u001b[0;34m(mod_name, error_msg)\u001b[0m\n\u001b[1;32m     96\u001b[0m         \u001b[0;32mreturn\u001b[0m \u001b[0mimport_module\u001b[0m\u001b[0;34m(\u001b[0m\u001b[0mmod_name\u001b[0m\u001b[0;34m)\u001b[0m\u001b[0;34m\u001b[0m\u001b[0m\n\u001b[1;32m     97\u001b[0m     \u001b[0;32mexcept\u001b[0m \u001b[0mImportError\u001b[0m\u001b[0;34m:\u001b[0m\u001b[0;34m\u001b[0m\u001b[0m\n\u001b[0;32m---> 98\u001b[0;31m         \u001b[0;32mraise\u001b[0m \u001b[0mRuntimeError\u001b[0m\u001b[0;34m(\u001b[0m\u001b[0merror_msg\u001b[0m\u001b[0;34m)\u001b[0m\u001b[0;34m\u001b[0m\u001b[0m\n\u001b[0m\u001b[1;32m     99\u001b[0m \u001b[0;34m\u001b[0m\u001b[0m\n\u001b[1;32m    100\u001b[0m \u001b[0;34m\u001b[0m\u001b[0m\n",
      "\u001b[0;31mRuntimeError\u001b[0m: Drawing dask graphs requires the `graphviz` python library and the `graphviz` system library to be installed."
     ]
    }
   ],
   "source": [
    "from dask.dot import dot_graph"
   ]
  },
  {
   "cell_type": "code",
   "execution_count": null,
   "metadata": {
    "collapsed": true
   },
   "outputs": [],
   "source": []
  }
 ],
 "metadata": {
  "kernelspec": {
   "display_name": "Python [conda env:dask_distributed]",
   "language": "python",
   "name": "conda-env-dask_distributed-py"
  },
  "language_info": {
   "codemirror_mode": {
    "name": "ipython",
    "version": 3
   },
   "file_extension": ".py",
   "mimetype": "text/x-python",
   "name": "python",
   "nbconvert_exporter": "python",
   "pygments_lexer": "ipython3",
   "version": "3.5.3"
  }
 },
 "nbformat": 4,
 "nbformat_minor": 2
}
