{
 "cells": [
  {
   "cell_type": "code",
   "execution_count": 1,
   "metadata": {
    "collapsed": false,
    "deletable": true,
    "editable": true
   },
   "outputs": [],
   "source": [
    "import xarray as xr\n",
    "import xrft\n",
    "import numpy as np\n",
    "import dask\n",
    "from tqdm import tqdm\n",
    "from glob import glob\n",
    "from matplotlib import pyplot as plt\n",
    "%matplotlib inline"
   ]
  },
  {
   "cell_type": "code",
   "execution_count": 2,
   "metadata": {
    "collapsed": false,
    "deletable": true,
    "editable": true
   },
   "outputs": [
    {
     "name": "stdout",
     "output_type": "stream",
     "text": [
      "0.9.5-1-gab4ffee\n",
      "0.14.1\n"
     ]
    }
   ],
   "source": [
    "print(xr.__version__)\n",
    "print(dask.__version__)"
   ]
  },
  {
   "cell_type": "code",
   "execution_count": 16,
   "metadata": {
    "collapsed": false,
    "deletable": true,
    "editable": true
   },
   "outputs": [
    {
     "data": {
      "text/plain": [
       "<Client: scheduler='tcp://10.43.8.132:8786' processes=5 cores=20>"
      ]
     },
     "execution_count": 16,
     "metadata": {},
     "output_type": "execute_result"
    }
   ],
   "source": [
    "#from dask.utils import SerializableLock\n",
    "from dask.distributed import Client, wait\n",
    "client = Client(scheduler_file='../../.dask_schedule_file.json')\n",
    "#client.restart()\n",
    "client"
   ]
  },
  {
   "cell_type": "code",
   "execution_count": 7,
   "metadata": {
    "collapsed": true,
    "deletable": true,
    "editable": true
   },
   "outputs": [],
   "source": [
    "client.shutdown()"
   ]
  },
  {
   "cell_type": "code",
   "execution_count": 5,
   "metadata": {
    "collapsed": false,
    "deletable": true,
    "editable": true
   },
   "outputs": [
    {
     "name": "stdout",
     "output_type": "stream",
     "text": [
      "1753\n",
      "/rigel/ocp/users/ra2697/LLC/llc_4320_agulhas/llc_4320_agulhas.0000010368.nc /rigel/ocp/users/ra2697/LLC/llc_4320_agulhas/llc_4320_agulhas_grid.nc\n"
     ]
    }
   ],
   "source": [
    "ddir = '/rigel/ocp/users/ra2697/LLC/llc_4320_agulhas/'\n",
    "#all_files = sorted(glob(ddir + '*.00000*.nc'))\n",
    "all_files = sorted(glob(ddir + '*.nc'))\n",
    "print(len(all_files))\n",
    "print(all_files[0], all_files[-1])"
   ]
  },
  {
   "cell_type": "code",
   "execution_count": 6,
   "metadata": {
    "collapsed": false,
    "deletable": true,
    "editable": true
   },
   "outputs": [
    {
     "name": "stdout",
     "output_type": "stream",
     "text": [
      "CPU times: user 52 s, sys: 8.31 s, total: 1min\n",
      "Wall time: 9min 23s\n"
     ]
    }
   ],
   "source": [
    "%time ds = xr.open_mfdataset(all_files, autoclose=False, decode_cf=False)"
   ]
  },
  {
   "cell_type": "code",
   "execution_count": 11,
   "metadata": {
    "collapsed": false,
    "deletable": true,
    "editable": true
   },
   "outputs": [
    {
     "data": {
      "text/plain": [
       "<xarray.DataArray 'time' (time: 1752)>\n",
       "array(['2011-01-04T00:00:00.000000000', '2011-01-04T01:00:00.000000000',\n",
       "       '2011-01-04T02:00:00.000000000', ..., '2011-03-17T21:00:00.000000000',\n",
       "       '2011-03-17T22:00:00.000000000', '2011-03-17T23:00:00.000000000'], dtype='datetime64[ns]')\n",
       "Coordinates:\n",
       "  * time     (time) datetime64[ns] 2011-01-04 2011-01-04T01:00:00 ...\n",
       "Attributes:\n",
       "    standard_name:  time\n",
       "    long_name:      Time\n",
       "    axis:           T"
      ]
     },
     "execution_count": 11,
     "metadata": {},
     "output_type": "execute_result"
    }
   ],
   "source": [
    "ds.time.attrs['units'] = 'seconds since 2011-01-01'\n",
    "ds['time'] = xr.decode_cf(ds.time.to_dataset(name='foo')).time\n",
    "ds.time"
   ]
  },
  {
   "cell_type": "code",
   "execution_count": 12,
   "metadata": {
    "collapsed": false,
    "deletable": true,
    "editable": true
   },
   "outputs": [
    {
     "data": {
      "text/plain": [
       "'/rigel/ocp/users/ra2697/LLC/llc_4320_agulhas//weekly_avg/'"
      ]
     },
     "execution_count": 12,
     "metadata": {},
     "output_type": "execute_result"
    }
   ],
   "source": [
    "prefix = 'llc_4320_agulhas'\n",
    "outdir = ddir + '/weekly_avg/'\n",
    "outdir"
   ]
  },
  {
   "cell_type": "code",
   "execution_count": 13,
   "metadata": {
    "collapsed": false,
    "deletable": true,
    "editable": true
   },
   "outputs": [],
   "source": [
    "# should experiment more with chunk size\n",
    "dsc = ds.chunk({'time': 1, 'k': 5, 'k_l': 5, 'k_u': 5, 'k_p1': 5})"
   ]
  },
  {
   "cell_type": "code",
   "execution_count": 11,
   "metadata": {
    "collapsed": false,
    "deletable": true,
    "editable": true
   },
   "outputs": [],
   "source": [
    "ds_daily = dsc.resample('D', 'time')"
   ]
  },
  {
   "cell_type": "code",
   "execution_count": 9,
   "metadata": {
    "collapsed": false,
    "deletable": true,
    "editable": true
   },
   "outputs": [
    {
     "data": {
      "text/plain": [
       "<xarray.DataArray 'time' (time: 47)>\n",
       "array(['2011-01-30T00:00:00.000000000', '2011-01-31T00:00:00.000000000',\n",
       "       '2011-02-01T00:00:00.000000000', '2011-02-02T00:00:00.000000000',\n",
       "       '2011-02-03T00:00:00.000000000', '2011-02-04T00:00:00.000000000',\n",
       "       '2011-02-05T00:00:00.000000000', '2011-02-06T00:00:00.000000000',\n",
       "       '2011-02-07T00:00:00.000000000', '2011-02-08T00:00:00.000000000',\n",
       "       '2011-02-09T00:00:00.000000000', '2011-02-10T00:00:00.000000000',\n",
       "       '2011-02-11T00:00:00.000000000', '2011-02-12T00:00:00.000000000',\n",
       "       '2011-02-13T00:00:00.000000000', '2011-02-14T00:00:00.000000000',\n",
       "       '2011-02-15T00:00:00.000000000', '2011-02-16T00:00:00.000000000',\n",
       "       '2011-02-17T00:00:00.000000000', '2011-02-18T00:00:00.000000000',\n",
       "       '2011-02-19T00:00:00.000000000', '2011-02-20T00:00:00.000000000',\n",
       "       '2011-02-21T00:00:00.000000000', '2011-02-22T00:00:00.000000000',\n",
       "       '2011-02-23T00:00:00.000000000', '2011-02-24T00:00:00.000000000',\n",
       "       '2011-02-25T00:00:00.000000000', '2011-02-26T00:00:00.000000000',\n",
       "       '2011-02-27T00:00:00.000000000', '2011-02-28T00:00:00.000000000',\n",
       "       '2011-03-01T00:00:00.000000000', '2011-03-02T00:00:00.000000000',\n",
       "       '2011-03-03T00:00:00.000000000', '2011-03-04T00:00:00.000000000',\n",
       "       '2011-03-05T00:00:00.000000000', '2011-03-06T00:00:00.000000000',\n",
       "       '2011-03-07T00:00:00.000000000', '2011-03-08T00:00:00.000000000',\n",
       "       '2011-03-09T00:00:00.000000000', '2011-03-10T00:00:00.000000000',\n",
       "       '2011-03-11T00:00:00.000000000', '2011-03-12T00:00:00.000000000',\n",
       "       '2011-03-13T00:00:00.000000000', '2011-03-14T00:00:00.000000000',\n",
       "       '2011-03-15T00:00:00.000000000', '2011-03-16T00:00:00.000000000',\n",
       "       '2011-03-17T00:00:00.000000000'], dtype='datetime64[ns]')\n",
       "Coordinates:\n",
       "  * time     (time) datetime64[ns] 2011-01-30 2011-01-31 2011-02-01 ..."
      ]
     },
     "execution_count": 9,
     "metadata": {},
     "output_type": "execute_result"
    }
   ],
   "source": [
    "# we output got the first 26\n",
    "ds_daily = ds_daily.isel(time=slice(26,None))\n",
    "ds_daily.time"
   ]
  },
  {
   "cell_type": "code",
   "execution_count": 10,
   "metadata": {
    "collapsed": false,
    "deletable": true,
    "editable": true
   },
   "outputs": [
    {
     "data": {
      "text/plain": [
       "<xarray.DataArray 'iter' ()>\n",
       "array(101880.0)\n",
       "Coordinates:\n",
       "    time     datetime64[ns] 2011-01-30"
      ]
     },
     "execution_count": 10,
     "metadata": {},
     "output_type": "execute_result"
    }
   ],
   "source": [
    "ds_daily.isel(time=0)['iter'].load()"
   ]
  },
  {
   "cell_type": "code",
   "execution_count": 11,
   "metadata": {
    "collapsed": false,
    "deletable": true,
    "editable": true
   },
   "outputs": [
    {
     "name": "stdout",
     "output_type": "stream",
     "text": [
      "CPU times: user 2.38 s, sys: 3.34 s, total: 5.72 s\n",
      "Wall time: 1min 50s\n"
     ]
    }
   ],
   "source": [
    "%time daily_iternum = ds_daily['iter'].load()"
   ]
  },
  {
   "cell_type": "code",
   "execution_count": 13,
   "metadata": {
    "collapsed": true,
    "deletable": true,
    "editable": true
   },
   "outputs": [],
   "source": [
    "iternum = [int(i) for i in daily_iternum]"
   ]
  },
  {
   "cell_type": "code",
   "execution_count": 14,
   "metadata": {
    "collapsed": true,
    "deletable": true,
    "editable": true
   },
   "outputs": [],
   "source": [
    "keep_vars = ['U', 'V', 'W']"
   ]
  },
  {
   "cell_type": "code",
   "execution_count": null,
   "metadata": {
    "collapsed": false,
    "deletable": true,
    "editable": true
   },
   "outputs": [
    {
     "name": "stderr",
     "output_type": "stream",
     "text": [
      " 51%|█████     | 24/47 [2:50:37<5:13:52, 818.78s/it]"
     ]
    }
   ],
   "source": [
    "for nt, i in enumerate(tqdm(iternum)):\n",
    "    ds_day = ds_daily.isel(time=nt)\n",
    "    dsets = [ds_day[v].load() for v in keep_vars]\n",
    "    merged = xr.merge(dsets, )\n",
    "    fname = outdir + '%s_uvw_daily.%010d.nc' % (prefix, i)\n",
    "    merged.to_netcdf(fname)"
   ]
  },
  {
   "cell_type": "code",
   "execution_count": 14,
   "metadata": {
    "collapsed": false,
    "deletable": true,
    "editable": true
   },
   "outputs": [
    {
     "data": {
      "text/plain": [
       "<xarray.DataArray 'time' (time: 11)>\n",
       "array(['2011-01-04T00:00:00.000000000', '2011-01-11T00:00:00.000000000',\n",
       "       '2011-01-18T00:00:00.000000000', '2011-01-25T00:00:00.000000000',\n",
       "       '2011-02-01T00:00:00.000000000', '2011-02-08T00:00:00.000000000',\n",
       "       '2011-02-15T00:00:00.000000000', '2011-02-22T00:00:00.000000000',\n",
       "       '2011-03-01T00:00:00.000000000', '2011-03-08T00:00:00.000000000',\n",
       "       '2011-03-15T00:00:00.000000000'], dtype='datetime64[ns]')\n",
       "Coordinates:\n",
       "  * time     (time) datetime64[ns] 2011-01-04 2011-01-11 2011-01-18 ..."
      ]
     },
     "execution_count": 14,
     "metadata": {},
     "output_type": "execute_result"
    }
   ],
   "source": [
    "ds_weekly = dsc.resample('7D', 'time')\n",
    "ds_weekly.time"
   ]
  },
  {
   "cell_type": "code",
   "execution_count": 15,
   "metadata": {
    "collapsed": false,
    "scrolled": false
   },
   "outputs": [
    {
     "name": "stdout",
     "output_type": "stream",
     "text": [
      "CPU times: user 3.51 s, sys: 3.85 s, total: 7.35 s\n",
      "Wall time: 2min 39s\n"
     ]
    }
   ],
   "source": [
    "%time weekly_iternum = ds_weekly['iter'].load()"
   ]
  },
  {
   "cell_type": "code",
   "execution_count": null,
   "metadata": {
    "collapsed": false
   },
   "outputs": [
    {
     "name": "stderr",
     "output_type": "stream",
     "text": [
      " 36%|███▋      | 4/11 [2:25:28<4:11:28, 2155.48s/it]"
     ]
    }
   ],
   "source": [
    "keep_vars = ['U', 'V', 'W']\n",
    "for nt, i in enumerate(tqdm(weekly_iternum)):\n",
    "    ds_week = ds_weekly.isel(time=nt)\n",
    "    dsets = [ds_week[v].load() for v in keep_vars]\n",
    "    merged = xr.merge(dsets, )\n",
    "    fname = outdir + '%s_uvw_weekly.%010d.nc' % (prefix, i)\n",
    "    merged.to_netcdf(fname)"
   ]
  },
  {
   "cell_type": "code",
   "execution_count": 46,
   "metadata": {
    "collapsed": false
   },
   "outputs": [
    {
     "data": {
      "text/plain": [
       "{'tcp://10.43.8.132:47460': '/local'}"
      ]
     },
     "execution_count": 46,
     "metadata": {},
     "output_type": "execute_result"
    }
   ],
   "source": [
    "client.run(lambda dask_worker: dask_worker.worker_dir, nanny=True)"
   ]
  },
  {
   "cell_type": "code",
   "execution_count": null,
   "metadata": {
    "collapsed": true
   },
   "outputs": [],
   "source": [
    "import env"
   ]
  },
  {
   "cell_type": "code",
   "execution_count": null,
   "metadata": {
    "collapsed": true
   },
   "outputs": [],
   "source": [
    "eos.environ['DASK_SCHEDULER_FILE']"
   ]
  }
 ],
 "metadata": {
  "kernelspec": {
   "display_name": "Python 3",
   "language": "python",
   "name": "python3"
  },
  "language_info": {
   "codemirror_mode": {
    "name": "ipython",
    "version": 3
   },
   "file_extension": ".py",
   "mimetype": "text/x-python",
   "name": "python",
   "nbconvert_exporter": "python",
   "pygments_lexer": "ipython3",
   "version": "3.5.3"
  }
 },
 "nbformat": 4,
 "nbformat_minor": 2
}
